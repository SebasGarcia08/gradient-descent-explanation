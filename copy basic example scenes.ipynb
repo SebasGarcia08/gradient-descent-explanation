{
 "cells": [
  {
   "cell_type": "markdown",
   "id": "radical-triumph",
   "metadata": {},
   "source": [
    "**Note:** This is a temporary test environment in which you can play around with Manim without the need of installing it locally. Keep in mind that this is a *temporary* environment, though: your changes will not be saved and cannot be shared with others. To save your work, you will need to download the notebook file (\"File > Download as > Notebook (.ipynb)\"). Enjoy!\n",
    "\n",
    "*Useful resources:* [Documentation](https://docs.manim.community), [Discord](https://discord.gg/mMRrZQW), [Reddit](https://www.reddit.com/r/manim/)"
   ]
  },
  {
   "cell_type": "code",
   "execution_count": 1,
   "id": "needed-keeping",
   "metadata": {
    "ExecuteTime": {
     "end_time": "2021-04-09T20:36:15.604089Z",
     "start_time": "2021-04-09T20:36:13.465106Z"
    }
   },
   "outputs": [],
   "source": [
    "from manim import *"
   ]
  },
  {
   "cell_type": "code",
   "execution_count": 2,
   "id": "variable-concentration",
   "metadata": {
    "ExecuteTime": {
     "end_time": "2021-04-09T20:36:15.626080Z",
     "start_time": "2021-04-09T20:36:15.607412Z"
    }
   },
   "outputs": [
    {
     "name": "stdout",
     "output_type": "stream",
     "text": [
      "usage: manim file [flags] [scene [scene ...]]\n",
      "       manim {cfg,init,plugins} [opts]\n",
      "\n",
      "Animation engine for explanatory math videos\n",
      "\n",
      "positional arguments:\n",
      "  file                  Path to file holding the python code for the scene\n",
      "  scene_names           Name of the Scene class you want to see\n",
      "\n",
      "optional arguments:\n",
      "  -h, --help            show this help message and exit\n",
      "  -o OUTPUT_FILE, --output_file OUTPUT_FILE\n",
      "                        Specify the name of the output file, if it should be\n",
      "                        different from the scene class name\n",
      "  -p, --preview         Automatically open the saved file once its done\n",
      "  -f, --show_in_file_browser\n",
      "                        Show the output file in the File Browser\n",
      "  --sound               Play a success/failure sound\n",
      "  --leave_progress_bars\n",
      "                        Leave progress bars displayed in terminal\n",
      "  -a, --write_all       Write all the scenes from a file\n",
      "  -w, --write_to_movie  Render the scene as a movie file (this is on by\n",
      "                        default)\n",
      "  -s, --save_last_frame\n",
      "                        Save the last frame only (no movie file is generated)\n",
      "  -g, --save_pngs       Save each frame as a png\n",
      "  -i, --save_as_gif     Save the video as gif\n",
      "  --disable_caching     Disable caching (will generate partial-movie-files\n",
      "                        anyway)\n",
      "  --flush_cache         Remove all cached partial-movie-files\n",
      "  --log_to_file         Log terminal output to file\n",
      "  -c BACKGROUND_COLOR, --background_color BACKGROUND_COLOR\n",
      "                        Specify background color\n",
      "  --media_dir MEDIA_DIR\n",
      "                        Directory to store media (including video files)\n",
      "  --log_dir LOG_DIR     Directory to store log files\n",
      "  --tex_template TEX_TEMPLATE\n",
      "                        Specify a custom TeX template file\n",
      "  --dry_run             Do a dry run (render scenes but generate no output\n",
      "                        files)\n",
      "  -t, --transparent     Render a scene with an alpha channel\n",
      "  -q {k,p,h,m,l}, --quality {k,p,h,m,l}\n",
      "                        Render at specific quality, short form of the\n",
      "                        --*_quality flags\n",
      "  --low_quality         Render at low quality\n",
      "  --medium_quality      Render at medium quality\n",
      "  --high_quality        Render at high quality\n",
      "  --production_quality  Render at default production quality\n",
      "  --fourk_quality       Render at 4K quality\n",
      "  -l                    DEPRECATED: USE -ql or --quality l\n",
      "  -m                    DEPRECATED: USE -qm or --quality m\n",
      "  -e                    DEPRECATED: USE -qh or --quality h\n",
      "  -k                    DEPRECATED: USE -qk or --quality k\n",
      "  -r RESOLUTION, --resolution RESOLUTION\n",
      "                        Resolution, passed as \"height,width\". Overrides the\n",
      "                        -l, -m, -e, and -k flags, if present\n",
      "  -n FROM_ANIMATION_NUMBER, --from_animation_number FROM_ANIMATION_NUMBER\n",
      "                        Start rendering at the specified animation index,\n",
      "                        instead of the first animation. If you pass in two\n",
      "                        comma separated values, e.g. '3,6', it will end the\n",
      "                        rendering at the second value\n",
      "  --use_webgl_renderer  Render animations using the WebGL frontend\n",
      "  --webgl_renderer_path WEBGL_RENDERER_PATH\n",
      "                        Path to the WebGL frontend\n",
      "  --webgl_updater_fps WEBGL_UPDATER_FPS\n",
      "                        Frame rate to use when generating keyframe data for\n",
      "                        animations that use updaters while using the WebGL\n",
      "                        frontend\n",
      "  --config_file CONFIG_FILE\n",
      "                        Specify the configuration file\n",
      "  --custom_folders      Use the folders defined in the [custom_folders]\n",
      "                        section of the config file to define the output folder\n",
      "                        structure\n",
      "  -v {DEBUG,INFO,WARNING,ERROR,CRITICAL}, --verbosity {DEBUG,INFO,WARNING,ERROR,CRITICAL}\n",
      "                        Verbosity level. Also changes the ffmpeg log level\n",
      "                        unless the latter is specified in the config\n",
      "  --version             Print the current version of Manim you are using\n",
      "  --progress_bar True/False\n",
      "                        Display the progress bar\n",
      "\n",
      "Made with <3 by the ManimCommunity devs\n"
     ]
    }
   ],
   "source": [
    "%manim -h"
   ]
  },
  {
   "cell_type": "code",
   "execution_count": 7,
   "id": "exclusive-superior",
   "metadata": {
    "ExecuteTime": {
     "end_time": "2021-04-02T06:03:10.157555Z",
     "start_time": "2021-04-02T06:03:07.804659Z"
    }
   },
   "outputs": [
    {
     "name": "stderr",
     "output_type": "stream",
     "text": [
      "                                                                                  \r"
     ]
    },
    {
     "ename": "FileNotFoundError",
     "evalue": "[Errno 2] No such file or directory: 'media/jupyter/ebf552ab0500490e89863aa68c2a89332e3653f7.mp4'",
     "output_type": "error",
     "traceback": [
      "\u001b[0;31m---------------------------------------------------------------------------\u001b[0m",
      "\u001b[0;31mFileNotFoundError\u001b[0m                         Traceback (most recent call last)",
      "\u001b[0;32m<ipython-input-7-6a2d0441ccaa>\u001b[0m in \u001b[0;36m<module>\u001b[0;34m\u001b[0m\n\u001b[0;32m----> 1\u001b[0;31m \u001b[0mget_ipython\u001b[0m\u001b[0;34m(\u001b[0m\u001b[0;34m)\u001b[0m\u001b[0;34m.\u001b[0m\u001b[0mrun_cell_magic\u001b[0m\u001b[0;34m(\u001b[0m\u001b[0;34m'manim'\u001b[0m\u001b[0;34m,\u001b[0m \u001b[0;34m'SquareToCircle -qm -v WARNING'\u001b[0m\u001b[0;34m,\u001b[0m \u001b[0;34m'\\nclass SquareToCircle(Scene):\\n    def construct(self):\\n        circle = Circle()\\n        square = Square()\\n        square.flip(RIGHT)\\n        square.rotate(-3 * TAU / 8)\\n        circle.set_fill(PINK, opacity=0.5)\\n\\n        self.play(ShowCreation(square))\\n        self.play(Transform(square, circle))\\n        self.play(FadeOut(square))\\n'\u001b[0m\u001b[0;34m)\u001b[0m\u001b[0;34m\u001b[0m\u001b[0;34m\u001b[0m\u001b[0m\n\u001b[0m",
      "\u001b[0;32m~/anaconda3/lib/python3.7/site-packages/IPython/core/interactiveshell.py\u001b[0m in \u001b[0;36mrun_cell_magic\u001b[0;34m(self, magic_name, line, cell)\u001b[0m\n\u001b[1;32m   2397\u001b[0m             \u001b[0;32mwith\u001b[0m \u001b[0mself\u001b[0m\u001b[0;34m.\u001b[0m\u001b[0mbuiltin_trap\u001b[0m\u001b[0;34m:\u001b[0m\u001b[0;34m\u001b[0m\u001b[0;34m\u001b[0m\u001b[0m\n\u001b[1;32m   2398\u001b[0m                 \u001b[0margs\u001b[0m \u001b[0;34m=\u001b[0m \u001b[0;34m(\u001b[0m\u001b[0mmagic_arg_s\u001b[0m\u001b[0;34m,\u001b[0m \u001b[0mcell\u001b[0m\u001b[0;34m)\u001b[0m\u001b[0;34m\u001b[0m\u001b[0;34m\u001b[0m\u001b[0m\n\u001b[0;32m-> 2399\u001b[0;31m                 \u001b[0mresult\u001b[0m \u001b[0;34m=\u001b[0m \u001b[0mfn\u001b[0m\u001b[0;34m(\u001b[0m\u001b[0;34m*\u001b[0m\u001b[0margs\u001b[0m\u001b[0;34m,\u001b[0m \u001b[0;34m**\u001b[0m\u001b[0mkwargs\u001b[0m\u001b[0;34m)\u001b[0m\u001b[0;34m\u001b[0m\u001b[0;34m\u001b[0m\u001b[0m\n\u001b[0m\u001b[1;32m   2400\u001b[0m             \u001b[0;32mreturn\u001b[0m \u001b[0mresult\u001b[0m\u001b[0;34m\u001b[0m\u001b[0;34m\u001b[0m\u001b[0m\n\u001b[1;32m   2401\u001b[0m \u001b[0;34m\u001b[0m\u001b[0m\n",
      "\u001b[0;32m<decorator-gen-863>\u001b[0m in \u001b[0;36mmanim\u001b[0;34m(self, line, cell, local_ns)\u001b[0m\n",
      "\u001b[0;32m~/anaconda3/lib/python3.7/site-packages/IPython/core/magic.py\u001b[0m in \u001b[0;36m<lambda>\u001b[0;34m(f, *a, **k)\u001b[0m\n\u001b[1;32m    185\u001b[0m     \u001b[0;31m# but it's overkill for just that one bit of state.\u001b[0m\u001b[0;34m\u001b[0m\u001b[0;34m\u001b[0m\u001b[0;34m\u001b[0m\u001b[0m\n\u001b[1;32m    186\u001b[0m     \u001b[0;32mdef\u001b[0m \u001b[0mmagic_deco\u001b[0m\u001b[0;34m(\u001b[0m\u001b[0marg\u001b[0m\u001b[0;34m)\u001b[0m\u001b[0;34m:\u001b[0m\u001b[0;34m\u001b[0m\u001b[0;34m\u001b[0m\u001b[0m\n\u001b[0;32m--> 187\u001b[0;31m         \u001b[0mcall\u001b[0m \u001b[0;34m=\u001b[0m \u001b[0;32mlambda\u001b[0m \u001b[0mf\u001b[0m\u001b[0;34m,\u001b[0m \u001b[0;34m*\u001b[0m\u001b[0ma\u001b[0m\u001b[0;34m,\u001b[0m \u001b[0;34m**\u001b[0m\u001b[0mk\u001b[0m\u001b[0;34m:\u001b[0m \u001b[0mf\u001b[0m\u001b[0;34m(\u001b[0m\u001b[0;34m*\u001b[0m\u001b[0ma\u001b[0m\u001b[0;34m,\u001b[0m \u001b[0;34m**\u001b[0m\u001b[0mk\u001b[0m\u001b[0;34m)\u001b[0m\u001b[0;34m\u001b[0m\u001b[0;34m\u001b[0m\u001b[0m\n\u001b[0m\u001b[1;32m    188\u001b[0m \u001b[0;34m\u001b[0m\u001b[0m\n\u001b[1;32m    189\u001b[0m         \u001b[0;32mif\u001b[0m \u001b[0mcallable\u001b[0m\u001b[0;34m(\u001b[0m\u001b[0marg\u001b[0m\u001b[0;34m)\u001b[0m\u001b[0;34m:\u001b[0m\u001b[0;34m\u001b[0m\u001b[0;34m\u001b[0m\u001b[0m\n",
      "\u001b[0;32m~/anaconda3/lib/python3.7/site-packages/manim/utils/ipython_magic.py\u001b[0m in \u001b[0;36mmanim\u001b[0;34m(self, line, cell, local_ns)\u001b[0m\n\u001b[1;32m     88\u001b[0m \u001b[0;34m\u001b[0m\u001b[0m\n\u001b[1;32m     89\u001b[0m                 \u001b[0;32mif\u001b[0m \u001b[0mlocal_path\u001b[0m \u001b[0;32min\u001b[0m \u001b[0mself\u001b[0m\u001b[0;34m.\u001b[0m\u001b[0mrendered_files\u001b[0m\u001b[0;34m:\u001b[0m\u001b[0;34m\u001b[0m\u001b[0;34m\u001b[0m\u001b[0m\n\u001b[0;32m---> 90\u001b[0;31m                     \u001b[0mself\u001b[0m\u001b[0;34m.\u001b[0m\u001b[0mrendered_files\u001b[0m\u001b[0;34m[\u001b[0m\u001b[0mlocal_path\u001b[0m\u001b[0;34m]\u001b[0m\u001b[0;34m.\u001b[0m\u001b[0munlink\u001b[0m\u001b[0;34m(\u001b[0m\u001b[0;34m)\u001b[0m\u001b[0;34m\u001b[0m\u001b[0;34m\u001b[0m\u001b[0m\n\u001b[0m\u001b[1;32m     91\u001b[0m                 \u001b[0mself\u001b[0m\u001b[0;34m.\u001b[0m\u001b[0mrendered_files\u001b[0m\u001b[0;34m[\u001b[0m\u001b[0mlocal_path\u001b[0m\u001b[0;34m]\u001b[0m \u001b[0;34m=\u001b[0m \u001b[0mtmpfile\u001b[0m\u001b[0;34m\u001b[0m\u001b[0;34m\u001b[0m\u001b[0m\n\u001b[1;32m     92\u001b[0m                 \u001b[0mos\u001b[0m\u001b[0;34m.\u001b[0m\u001b[0mmakedirs\u001b[0m\u001b[0;34m(\u001b[0m\u001b[0mtmpfile\u001b[0m\u001b[0;34m.\u001b[0m\u001b[0mparent\u001b[0m\u001b[0;34m,\u001b[0m \u001b[0mexist_ok\u001b[0m\u001b[0;34m=\u001b[0m\u001b[0;32mTrue\u001b[0m\u001b[0;34m)\u001b[0m\u001b[0;34m\u001b[0m\u001b[0;34m\u001b[0m\u001b[0m\n",
      "\u001b[0;32m~/anaconda3/lib/python3.7/pathlib.py\u001b[0m in \u001b[0;36munlink\u001b[0;34m(self)\u001b[0m\n\u001b[1;32m   1307\u001b[0m         \u001b[0;32mif\u001b[0m \u001b[0mself\u001b[0m\u001b[0;34m.\u001b[0m\u001b[0m_closed\u001b[0m\u001b[0;34m:\u001b[0m\u001b[0;34m\u001b[0m\u001b[0;34m\u001b[0m\u001b[0m\n\u001b[1;32m   1308\u001b[0m             \u001b[0mself\u001b[0m\u001b[0;34m.\u001b[0m\u001b[0m_raise_closed\u001b[0m\u001b[0;34m(\u001b[0m\u001b[0;34m)\u001b[0m\u001b[0;34m\u001b[0m\u001b[0;34m\u001b[0m\u001b[0m\n\u001b[0;32m-> 1309\u001b[0;31m         \u001b[0mself\u001b[0m\u001b[0;34m.\u001b[0m\u001b[0m_accessor\u001b[0m\u001b[0;34m.\u001b[0m\u001b[0munlink\u001b[0m\u001b[0;34m(\u001b[0m\u001b[0mself\u001b[0m\u001b[0;34m)\u001b[0m\u001b[0;34m\u001b[0m\u001b[0;34m\u001b[0m\u001b[0m\n\u001b[0m\u001b[1;32m   1310\u001b[0m \u001b[0;34m\u001b[0m\u001b[0m\n\u001b[1;32m   1311\u001b[0m     \u001b[0;32mdef\u001b[0m \u001b[0mrmdir\u001b[0m\u001b[0;34m(\u001b[0m\u001b[0mself\u001b[0m\u001b[0;34m)\u001b[0m\u001b[0;34m:\u001b[0m\u001b[0;34m\u001b[0m\u001b[0;34m\u001b[0m\u001b[0m\n",
      "\u001b[0;31mFileNotFoundError\u001b[0m: [Errno 2] No such file or directory: 'media/jupyter/ebf552ab0500490e89863aa68c2a89332e3653f7.mp4'"
     ]
    }
   ],
   "source": [
    "%%manim SquareToCircle -qm -v WARNING\n",
    "\n",
    "class SquareToCircle(Scene):\n",
    "    def construct(self):\n",
    "        circle = Circle()\n",
    "        square = Square()\n",
    "        square.flip(RIGHT)\n",
    "        square.rotate(-3 * TAU / 8)\n",
    "        circle.set_fill(PINK, opacity=0.5)\n",
    "\n",
    "        self.play(ShowCreation(square))\n",
    "        self.play(Transform(square, circle))\n",
    "        self.play(FadeOut(square))"
   ]
  },
  {
   "cell_type": "code",
   "execution_count": 3,
   "id": "norwegian-sherman",
   "metadata": {
    "ExecuteTime": {
     "end_time": "2021-04-09T20:36:26.302245Z",
     "start_time": "2021-04-09T20:36:22.317584Z"
    }
   },
   "outputs": [
    {
     "name": "stderr",
     "output_type": "stream",
     "text": [
      "                                                                                            \r"
     ]
    },
    {
     "data": {
      "text/html": [
       "<video src=\"media/jupyter/b678636b68780b6cdf45da96e5f393e7e29195bc.mp4\" controls autoplay loop style=\"max-width: 100%;\"  >\n",
       "      Your browser does not support the <code>video</code> element.\n",
       "    </video>"
      ],
      "text/plain": [
       "<IPython.core.display.Video object>"
      ]
     },
     "metadata": {},
     "output_type": "display_data"
    }
   ],
   "source": [
    "%%manim WarpSquare -qm -v WARNING\n",
    "\n",
    "class WarpSquare(Scene):\n",
    "    def construct(self):\n",
    "        square = Square()\n",
    "        self.play(\n",
    "            ApplyPointwiseFunction(\n",
    "                lambda point: complex_to_R3(np.exp(R3_to_complex(point))), square\n",
    "            )\n",
    "        )\n",
    "        self.wait()"
   ]
  },
  {
   "cell_type": "markdown",
   "id": "labeled-winner",
   "metadata": {},
   "source": [
    "$$ \n",
    "MSE = {1 \\over m} \\sum_{i=0}^{m} (h_{\\theta}(x^{(i)}) - \\hat{y}^{(i)} ) ^ 2\n",
    "$$"
   ]
  },
  {
   "cell_type": "code",
   "execution_count": 4,
   "id": "individual-excellence",
   "metadata": {
    "ExecuteTime": {
     "end_time": "2021-04-09T20:36:37.448938Z",
     "start_time": "2021-04-09T20:36:33.671642Z"
    },
    "scrolled": false
   },
   "outputs": [
    {
     "name": "stderr",
     "output_type": "stream",
     "text": [
      "/home/sebas/anaconda3/lib/python3.7/site-packages/ipykernel_launcher.py:12: DeprecationWarning: This method is not guaranteed to stay around. Please prefer setting the attribute normally or with Mobject.set().\n",
      "  if sys.path[0] == '':\n",
      "                                                                                                                                              \r"
     ]
    },
    {
     "data": {
      "text/html": [
       "<video src=\"media/jupyter/2ddba010410f9c74dfad27374a17982f8963ee25.mp4\" controls autoplay loop style=\"max-width: 100%;\"  >\n",
       "      Your browser does not support the <code>video</code> element.\n",
       "    </video>"
      ],
      "text/plain": [
       "<IPython.core.display.Video object>"
      ]
     },
     "metadata": {},
     "output_type": "display_data"
    }
   ],
   "source": [
    "%%manim WriteStuff -qm -v WARNING\n",
    "\n",
    "class WriteStuff(Scene):\n",
    "    def construct(self):\n",
    "        example_text = Tex(\"Esta es una función de error (Mean Squared Error)\", \n",
    "                           tex_to_color_map={\"Mean Squared Error\": YELLOW})\n",
    "        example_tex = MathTex(\n",
    "            \"MSE = {1 \\\\over m} \\\\sum_{i=0}^{m} (h_{\\\\theta}(x^{(i)}) - y^{(i)} ) ^ 2\"\n",
    "#             \"\\\\sum_{k=1}^\\\\infty {1 \\\\over k^2} = {\\\\pi^2 \\\\over 6}\",\n",
    "        )\n",
    "        group = VGroup(example_text, example_tex)\n",
    "        group.arrange(DOWN)\n",
    "        group.set_width(config[\"frame_width\"] - 2 * LARGE_BUFF)\n",
    "\n",
    "        self.play(Write(example_text))\n",
    "        self.play(Write(example_tex))\n",
    "        self.wait()"
   ]
  },
  {
   "cell_type": "code",
   "execution_count": 5,
   "id": "iraqi-creation",
   "metadata": {
    "ExecuteTime": {
     "end_time": "2021-04-09T20:37:14.119740Z",
     "start_time": "2021-04-09T20:36:51.162205Z"
    }
   },
   "outputs": [
    {
     "name": "stderr",
     "output_type": "stream",
     "text": [
      "                                                                                        \r"
     ]
    },
    {
     "data": {
      "text/html": [
       "<video src=\"media/jupyter/ed4b43fd54f2ad120c90900250ccaafd3272b44c.mp4\" controls autoplay loop style=\"max-width: 100%;\"  >\n",
       "      Your browser does not support the <code>video</code> element.\n",
       "    </video>"
      ],
      "text/plain": [
       "<IPython.core.display.Video object>"
      ]
     },
     "metadata": {},
     "output_type": "display_data"
    }
   ],
   "source": [
    "%%manim UpdatersExample -qm -v WARNING\n",
    "\n",
    "class UpdatersExample(Scene):\n",
    "    def construct(self):\n",
    "        decimal = DecimalNumber(\n",
    "            0,\n",
    "            show_ellipsis=True,\n",
    "            num_decimal_places=3,\n",
    "            include_sign=True,\n",
    "        )\n",
    "        square = Square().to_edge(UP)\n",
    "\n",
    "        decimal.add_updater(lambda d: d.next_to(square, RIGHT))\n",
    "        decimal.add_updater(lambda d: d.set_value(square.get_center()[1]))\n",
    "        self.add(square, decimal)\n",
    "        self.play(\n",
    "            square.animate.to_edge(DOWN),\n",
    "            rate_func=there_and_back,\n",
    "            run_time=5,\n",
    "        )\n",
    "        self.wait()"
   ]
  },
  {
   "cell_type": "markdown",
   "id": "unnecessary-yellow",
   "metadata": {},
   "source": [
    "$$\n",
    "J = \\int\n",
    "$$"
   ]
  },
  {
   "cell_type": "code",
   "execution_count": 6,
   "id": "hearing-adjustment",
   "metadata": {
    "ExecuteTime": {
     "end_time": "2021-04-09T20:38:06.974578Z",
     "start_time": "2021-04-09T20:37:24.297983Z"
    },
    "scrolled": false
   },
   "outputs": [
    {
     "name": "stderr",
     "output_type": "stream",
     "text": [
      "/home/sebas/anaconda3/lib/python3.7/site-packages/manim/mobject/svg/svg_mobject.py:261: UserWarning: media/Tex/eabc3344fbb7215b.svg contains a reference to id #g0-50, which is not recognized\n",
      "  warnings.warn(warning_text)\n",
      "/home/sebas/anaconda3/lib/python3.7/site-packages/manim/mobject/svg/svg_mobject.py:261: UserWarning: media/Tex/eabc3344fbb7215b.svg contains a reference to id #g0-68, which is not recognized\n",
      "  warnings.warn(warning_text)\n",
      "/home/sebas/anaconda3/lib/python3.7/site-packages/manim/mobject/svg/svg_mobject.py:261: UserWarning: media/Tex/eabc3344fbb7215b.svg contains a reference to id #g0-108, which is not recognized\n",
      "  warnings.warn(warning_text)\n",
      "/home/sebas/anaconda3/lib/python3.7/site-packages/manim/mobject/svg/svg_mobject.py:261: UserWarning: media/Tex/eabc3344fbb7215b.svg contains a reference to id #g0-112, which is not recognized\n",
      "  warnings.warn(warning_text)\n",
      "/home/sebas/anaconda3/lib/python3.7/site-packages/manim/mobject/svg/svg_mobject.py:261: UserWarning: media/Tex/7230f21747d358ff.svg contains a reference to id #g0-119, which is not recognized\n",
      "  warnings.warn(warning_text)\n",
      "/home/sebas/anaconda3/lib/python3.7/site-packages/manim/mobject/svg/svg_mobject.py:261: UserWarning: media/Tex/7230f21747d358ff.svg contains a reference to id #g0-45, which is not recognized\n",
      "  warnings.warn(warning_text)\n",
      "/home/sebas/anaconda3/lib/python3.7/site-packages/manim/mobject/svg/svg_mobject.py:261: UserWarning: media/Tex/7230f21747d358ff.svg contains a reference to id #g0-108, which is not recognized\n",
      "  warnings.warn(warning_text)\n",
      "/home/sebas/anaconda3/lib/python3.7/site-packages/manim/mobject/svg/svg_mobject.py:261: UserWarning: media/Tex/7230f21747d358ff.svg contains a reference to id #g0-112, which is not recognized\n",
      "  warnings.warn(warning_text)\n",
      "/home/sebas/anaconda3/lib/python3.7/site-packages/manim/mobject/svg/svg_mobject.py:261: UserWarning: media/Tex/7230f21747d358ff.svg contains a reference to id #g0-103, which is not recognized\n",
      "  warnings.warn(warning_text)\n",
      "                                                                                                            \r"
     ]
    },
    {
     "data": {
      "text/html": [
       "<video src=\"media/jupyter/4d76cb9d12d313fe137cb839b744ab8bd25d8c7b.mp4\" controls autoplay loop style=\"max-width: 100%;\"  >\n",
       "      Your browser does not support the <code>video</code> element.\n",
       "    </video>"
      ],
      "text/plain": [
       "<IPython.core.display.Video object>"
      ]
     },
     "metadata": {},
     "output_type": "display_data"
    }
   ],
   "source": [
    "%%manim OpeningManim -qm -v WARNING\n",
    "\n",
    "class OpeningManim(Scene):\n",
    "    def construct(self):\n",
    "        title = Tex(r\"This is some \\LaTeX\")\n",
    "        basel = MathTex(r\"\\sum_{n=1}^\\infty \\frac{1}{n^2} = \\frac{\\pi^2}{6}\")\n",
    "        VGroup(title, basel).arrange(DOWN)\n",
    "        self.play(\n",
    "            Write(title),\n",
    "            FadeInFrom(basel, UP),\n",
    "        )\n",
    "        self.wait(1)\n",
    "\n",
    "        transform_title = Tex(\"This is a transform\")\n",
    "        transform_title.to_corner(UP + LEFT)\n",
    "        self.play(\n",
    "            Transform(title, transform_title),\n",
    "            LaggedStart(*[FadeOutAndShift(obj, direction=DOWN) for obj in basel]),\n",
    "        )\n",
    "        self.wait(1)\n",
    "\n",
    "        grid = NumberPlane()\n",
    "        grid_title = Tex(\"This is a 2D euclidean space\")\n",
    "        grid_title.scale(1.5)\n",
    "        grid_title.move_to(transform_title)\n",
    "\n",
    "        self.add(grid, grid_title)  # Make sure title is on top of grid\n",
    "        self.play(\n",
    "            FadeOut(title),\n",
    "            FadeInFrom(grid_title, direction=DOWN),\n",
    "            ShowCreation(grid, run_time=3, lag_ratio=0.1),\n",
    "        )\n",
    "        self.wait(1)\n",
    "\n",
    "        grid_transform_title = Tex(\n",
    "            r\"That was a non-linear function \\\\ applied to the grid\"\n",
    "        )\n",
    "        grid_transform_title.move_to(grid_title, UL)\n",
    "        grid.prepare_for_nonlinear_transform()\n",
    "        self.play(\n",
    "            grid.animate.apply_function(\n",
    "                lambda p: p\n",
    "                + np.array(\n",
    "                    [\n",
    "                        np.sin(p[1]),\n",
    "                        np.sin(p[0]),\n",
    "                        0,\n",
    "                    ]\n",
    "                )\n",
    "            ),\n",
    "            run_time=3,\n",
    "        )\n",
    "        self.wait(1)\n",
    "        self.play(Transform(grid_title, grid_transform_title))\n",
    "        self.wait()\n"
   ]
  },
  {
   "cell_type": "code",
   "execution_count": 12,
   "id": "material-warner",
   "metadata": {
    "ExecuteTime": {
     "end_time": "2021-04-02T06:29:37.753048Z",
     "start_time": "2021-04-02T06:28:38.630315Z"
    }
   },
   "outputs": [
    {
     "name": "stderr",
     "output_type": "stream",
     "text": [
      "                                                                                                             \r"
     ]
    },
    {
     "data": {
      "text/html": [
       "<video src=\"media/jupyter/0f75b7df3eae315faa4fd158558ed310048b9f1d.mp4\" controls autoplay loop style=\"max-width: 100%;\"  >\n",
       "      Your browser does not support the <code>video</code> element.\n",
       "    </video>"
      ],
      "text/plain": [
       "<IPython.core.display.Video object>"
      ]
     },
     "metadata": {},
     "output_type": "display_data"
    }
   ],
   "source": [
    "%%manim ThreeDFunctionPlot -qm -v WARNING\n",
    "\n",
    "class ThreeDFunctionPlot(ThreeDScene):\n",
    "    def construct(self):\n",
    "        resolution_fa = 22\n",
    "        self.set_camera_orientation(phi=75 * DEGREES, theta=-30 * DEGREES)\n",
    "\n",
    "        def param_plane(u, v):\n",
    "            x = u\n",
    "            y = v\n",
    "            z = 0\n",
    "            return np.array([x, y, z])\n",
    "\n",
    "        plane = ParametricSurface(\n",
    "            param_plane,\n",
    "            resolution=(resolution_fa, resolution_fa),\n",
    "            v_min=-2,\n",
    "            v_max=+2,\n",
    "            u_min=-2,\n",
    "            u_max=+2,\n",
    "        )\n",
    "        plane.scale_about_point(2, ORIGIN)\n",
    "\n",
    "        def param_gauss(u, v):\n",
    "            x = u\n",
    "            y = v\n",
    "            d = np.sqrt(x * x + y * y)\n",
    "            sigma, mu = 0.4, 0.0\n",
    "            z = np.exp(-((d - mu) ** 2 / (2.0 * sigma ** 2)))\n",
    "            return np.array([x, y, z])\n",
    "\n",
    "        gauss_plane = ParametricSurface(\n",
    "            param_gauss,\n",
    "            resolution=(resolution_fa, resolution_fa),\n",
    "            v_min=-2,\n",
    "            v_max=+2,\n",
    "            u_min=-2,\n",
    "            u_max=+2,\n",
    "        )\n",
    "\n",
    "        gauss_plane.scale_about_point(2, ORIGIN)\n",
    "        gauss_plane.set_style(fill_opacity=1)\n",
    "        gauss_plane.set_style(stroke_color=GREEN)\n",
    "        gauss_plane.set_fill_by_checkerboard(GREEN, BLUE, opacity=0.1)\n",
    "\n",
    "        axes = ThreeDAxes()\n",
    "\n",
    "        self.add(axes)\n",
    "        self.play(Write(plane))\n",
    "        self.play(Transform(plane, gauss_plane))\n",
    "        self.wait()"
   ]
  },
  {
   "cell_type": "markdown",
   "id": "graduate-clinic",
   "metadata": {},
   "source": [
    "See many more examples at https://docs.manim.community/en/latest/examples.html!"
   ]
  }
 ],
 "metadata": {
  "kernelspec": {
   "display_name": "Python 3",
   "language": "python",
   "name": "python3"
  },
  "language_info": {
   "codemirror_mode": {
    "name": "ipython",
    "version": 3
   },
   "file_extension": ".py",
   "mimetype": "text/x-python",
   "name": "python",
   "nbconvert_exporter": "python",
   "pygments_lexer": "ipython3",
   "version": "3.7.10"
  },
  "latex_envs": {
   "LaTeX_envs_menu_present": true,
   "autoclose": false,
   "autocomplete": true,
   "bibliofile": "biblio.bib",
   "cite_by": "apalike",
   "current_citInitial": 1,
   "eqLabelWithNumbers": true,
   "eqNumInitial": 1,
   "hotkeys": {
    "equation": "Ctrl-E",
    "itemize": "Ctrl-I"
   },
   "labels_anchors": false,
   "latex_user_defs": false,
   "report_style_numbering": false,
   "user_envs_cfg": false
  },
  "toc": {
   "base_numbering": 1,
   "nav_menu": {},
   "number_sections": true,
   "sideBar": true,
   "skip_h1_title": false,
   "title_cell": "Table of Contents",
   "title_sidebar": "Contents",
   "toc_cell": false,
   "toc_position": {},
   "toc_section_display": true,
   "toc_window_display": false
  }
 },
 "nbformat": 4,
 "nbformat_minor": 5
}
